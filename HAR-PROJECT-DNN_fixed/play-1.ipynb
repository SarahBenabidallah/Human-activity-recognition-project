{
 "cells": [
  {
   "cell_type": "code",
   "execution_count": 2,
   "metadata": {},
   "outputs": [],
   "source": [
    "import pandas as pd"
   ]
  },
  {
   "cell_type": "code",
   "execution_count": 3,
   "metadata": {},
   "outputs": [],
   "source": [
    "df = pd.read_csv('signals.csv')"
   ]
  },
  {
   "cell_type": "code",
   "execution_count": 11,
   "metadata": {},
   "outputs": [],
   "source": [
    "sf = df.loc[df['user_snippet'] == '1008_0']"
   ]
  },
  {
   "cell_type": "code",
   "execution_count": 13,
   "metadata": {},
   "outputs": [],
   "source": [
    "x_list = []\n",
    "y_list = []\n",
    "z_list = []\n",
    "train_labels = []\n",
    "\n",
    "window_size = 100\n",
    "step_size = 50\n",
    "\n",
    "users = df['user_snippet'].unique()\n",
    "\n",
    "# creating overlaping windows of size window-size 100\n",
    "for i in range(0, len(users)):\n",
    "    s_train = df[df['user_snippet'] == users[i]]\n",
    "    xs = s_train['x-axis'].values\n",
    "    ys = s_train['y-axis'].values\n",
    "    zs = s_train['z-axis'].values\n",
    "    #label = stats.mode(df_train['activity'][i: i + 100])[0][0]\n",
    "\n",
    "    x_list.append(xs)\n",
    "    y_list.append(ys)\n",
    "    z_list.append(zs)\n",
    "    #train_labels.append(label)\n"
   ]
  },
  {
   "cell_type": "code",
   "execution_count": null,
   "metadata": {},
   "outputs": [],
   "source": []
  },
  {
   "cell_type": "code",
   "execution_count": null,
   "metadata": {},
   "outputs": [],
   "source": []
  }
 ],
 "metadata": {
  "kernelspec": {
   "display_name": "base",
   "language": "python",
   "name": "python3"
  },
  "language_info": {
   "codemirror_mode": {
    "name": "ipython",
    "version": 3
   },
   "file_extension": ".py",
   "mimetype": "text/x-python",
   "name": "python",
   "nbconvert_exporter": "python",
   "pygments_lexer": "ipython3",
   "version": "3.9.13"
  },
  "orig_nbformat": 4,
  "vscode": {
   "interpreter": {
    "hash": "e17245beed66d97676295f18f5af02f52c1ff0b20014505018e20bb50c7c46d6"
   }
  }
 },
 "nbformat": 4,
 "nbformat_minor": 2
}
